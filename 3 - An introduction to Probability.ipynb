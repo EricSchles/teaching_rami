{
 "cells": [
  {
   "cell_type": "markdown",
   "metadata": {},
   "source": [
    "http://www.greenteapress.com/thinkbayes/html/index.html"
   ]
  },
  {
   "cell_type": "code",
   "execution_count": 15,
   "metadata": {},
   "outputs": [],
   "source": [
    "import random\n",
    "\n",
    "num_trials = 20000\n",
    "count = {}.fromkeys(['Tails', 'Heads'], 0)\n",
    "for i in range(num_trials):\n",
    "    count[random.choice(['Tails', 'Heads'])] += 1"
   ]
  },
  {
   "cell_type": "code",
   "execution_count": 16,
   "metadata": {},
   "outputs": [
    {
     "data": {
      "text/plain": [
       "0.5007"
      ]
     },
     "execution_count": 16,
     "metadata": {},
     "output_type": "execute_result"
    }
   ],
   "source": [
    "count[\"Heads\"]/num_trials"
   ]
  },
  {
   "cell_type": "markdown",
   "metadata": {},
   "source": [
    "What is the probility that event A occurs?\n",
    "\n",
    "Example events:\n",
    "\n",
    "* subway is on time?\n",
    "* it rains today?\n",
    "* what is the chance the trump becomes president in 2016?\n",
    "* https://www.amazon.com/Black-Swan-Improbable-Robustness-Fragility/dp/081297381X"
   ]
  },
  {
   "cell_type": "markdown",
   "metadata": {},
   "source": [
    "# plane example\n",
    "\n",
    "824 people die - 10million total flights\n",
    "\n",
    "257 people die - 75,000 total flights"
   ]
  },
  {
   "cell_type": "code",
   "execution_count": 17,
   "metadata": {},
   "outputs": [
    {
     "data": {
      "text/plain": [
       "8.24e-05"
      ]
     },
     "execution_count": 17,
     "metadata": {},
     "output_type": "execute_result"
    }
   ],
   "source": [
    "824/10000000\n",
    "0.00000824"
   ]
  },
  {
   "cell_type": "code",
   "execution_count": 18,
   "metadata": {},
   "outputs": [
    {
     "data": {
      "text/plain": [
       "0.003426666666666667"
      ]
     },
     "execution_count": 18,
     "metadata": {},
     "output_type": "execute_result"
    }
   ],
   "source": [
    "257/75000"
   ]
  },
  {
   "cell_type": "markdown",
   "metadata": {},
   "source": [
    "Probabilities are _scale invariant_!!!!  that means you don't know the number of cases, which is bad in \"black swan\" events, but is good in comparing things across years and across experiments with relative ease, even if sample size is not the same."
   ]
  },
  {
   "cell_type": "code",
   "execution_count": null,
   "metadata": {},
   "outputs": [],
   "source": []
  }
 ],
 "metadata": {
  "kernelspec": {
   "display_name": "Python 3",
   "language": "python",
   "name": "python3"
  },
  "language_info": {
   "codemirror_mode": {
    "name": "ipython",
    "version": 3
   },
   "file_extension": ".py",
   "mimetype": "text/x-python",
   "name": "python",
   "nbconvert_exporter": "python",
   "pygments_lexer": "ipython3",
   "version": "3.6.5"
  }
 },
 "nbformat": 4,
 "nbformat_minor": 2
}
