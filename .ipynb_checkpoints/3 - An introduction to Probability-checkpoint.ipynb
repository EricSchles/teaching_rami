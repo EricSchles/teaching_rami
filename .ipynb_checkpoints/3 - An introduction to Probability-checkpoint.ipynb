{
 "cells": [
  {
   "cell_type": "markdown",
   "metadata": {},
   "source": [
    "http://www.greenteapress.com/thinkbayes/html/index.html"
   ]
  },
  {
   "cell_type": "code",
   "execution_count": 15,
   "metadata": {},
   "outputs": [],
   "source": [
    "import random\n",
    "\n",
    "num_trials = 20000\n",
    "count = {}.fromkeys(['Tails', 'Heads'], 0)\n",
    "for i in range(num_trials):\n",
    "    count[random.choice(['Tails', 'Heads'])] += 1"
   ]
  },
  {
   "cell_type": "code",
   "execution_count": 16,
   "metadata": {},
   "outputs": [
    {
     "data": {
      "text/plain": [
       "0.5007"
      ]
     },
     "execution_count": 16,
     "metadata": {},
     "output_type": "execute_result"
    }
   ],
   "source": [
    "count[\"Heads\"]/num_trials"
   ]
  },
  {
   "cell_type": "markdown",
   "metadata": {},
   "source": [
    "What is the probility that event A occurs?\n",
    "\n",
    "Example events:\n",
    "\n",
    "* subway is on time?\n",
    "* it rains today?\n",
    "* what is the chance the trump becomes president in 2016?\n",
    "* https://www.amazon.com/Black-Swan-Improbable-Robustness-Fragility/dp/081297381X"
   ]
  },
  {
   "cell_type": "code",
   "execution_count": null,
   "metadata": {},
   "outputs": [],
   "source": []
  }
 ],
 "metadata": {
  "kernelspec": {
   "display_name": "Python 3",
   "language": "python",
   "name": "python3"
  },
  "language_info": {
   "codemirror_mode": {
    "name": "ipython",
    "version": 3
   },
   "file_extension": ".py",
   "mimetype": "text/x-python",
   "name": "python",
   "nbconvert_exporter": "python",
   "pygments_lexer": "ipython3",
   "version": "3.6.5"
  }
 },
 "nbformat": 4,
 "nbformat_minor": 2
}
